{
 "cells": [
  {
   "cell_type": "code",
   "execution_count": 2,
   "id": "67b60f86-0511-46e0-b016-511d88c4e3bd",
   "metadata": {},
   "outputs": [
    {
     "name": "stdout",
     "output_type": "stream",
     "text": [
      "Vehicle 1:\n",
      "Name of Vehicle: Car\n",
      "Maximum Speed: 200 km/h\n",
      "Average Fuel Consumption: 15 km/l\n",
      "\n",
      "Vehicle 2:\n",
      "Name of Vehicle: Motorcycle\n",
      "Maximum Speed: 150 km/h\n",
      "Average Fuel Consumption: 25 km/l\n"
     ]
    }
   ],
   "source": [
    "\"\"\"\n",
    "Q.1. Create a vehicle class with an init method having instance \n",
    "variables as name_of_vehicle, max_speed and average_of_vehicle.\n",
    "Solution:-\n",
    "\"\"\"\n",
    "class Vehicle:\n",
    "    def __init__(self, name_of_vehicle, max_speed, average_of_vehicle):\n",
    "        self.name_of_vehicle = name_of_vehicle\n",
    "        self.max_speed = max_speed\n",
    "        self.average_of_vehicle = average_of_vehicle\n",
    "\n",
    "    def display_info(self):\n",
    "        print(f\"Name of Vehicle: {self.name_of_vehicle}\")\n",
    "        print(f\"Maximum Speed: {self.max_speed} km/h\")\n",
    "        print(f\"Average Fuel Consumption: {self.average_of_vehicle} km/l\")\n",
    "\n",
    "# Create an instance of the Vehicle class\n",
    "vehicle1 = Vehicle(\"Car\", 200, 15)\n",
    "vehicle2 = Vehicle(\"Motorcycle\", 150, 25)\n",
    "\n",
    "# Display information about the vehicles\n",
    "print(\"Vehicle 1:\")\n",
    "vehicle1.display_info()\n",
    "print(\"\\nVehicle 2:\")\n",
    "vehicle2.display_info()\n"
   ]
  },
  {
   "cell_type": "code",
   "execution_count": null,
   "id": "b437c5fd-2724-43ab-ab10-42c6a538ed78",
   "metadata": {},
   "outputs": [],
   "source": []
  }
 ],
 "metadata": {
  "kernelspec": {
   "display_name": "Python 3 (ipykernel)",
   "language": "python",
   "name": "python3"
  },
  "language_info": {
   "codemirror_mode": {
    "name": "ipython",
    "version": 3
   },
   "file_extension": ".py",
   "mimetype": "text/x-python",
   "name": "python",
   "nbconvert_exporter": "python",
   "pygments_lexer": "ipython3",
   "version": "3.10.8"
  }
 },
 "nbformat": 4,
 "nbformat_minor": 5
}
