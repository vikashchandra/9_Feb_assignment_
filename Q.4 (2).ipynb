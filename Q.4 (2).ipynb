{
 "cells": [
  {
   "cell_type": "code",
   "execution_count": 2,
   "id": "586ff750-a551-48c2-b43e-d494564d1ab7",
   "metadata": {},
   "outputs": [
    {
     "name": "stdout",
     "output_type": "stream",
     "text": [
      "Name: Alice\n",
      "Age: 30\n",
      "Updated Name: Bob\n",
      "Updated Age: 25\n"
     ]
    }
   ],
   "source": [
    "\"\"\"\n",
    "Q.4. What are getter and setter in python? Create a class and\n",
    "create a getter and a setter method in this class.\n",
    "Solution:-\n",
    "\"\"\"\n",
    "class Person:\n",
    "    def __init__(self, name, age):\n",
    "        self._name = name  # Private attribute with a single underscore\n",
    "        self._age = age    # Private attribute with a single underscore\n",
    "\n",
    "    # Getter method for 'name'\n",
    "    def get_name(self):\n",
    "        return self._name\n",
    "\n",
    "    # Setter method for 'name'\n",
    "    def set_name(self, name):\n",
    "        if len(name) < 2:\n",
    "            print(\"Name must be at least 2 characters long.\")\n",
    "        else:\n",
    "            self._name = name\n",
    "\n",
    "    # Getter method for 'age'\n",
    "    def get_age(self):\n",
    "        return self._age\n",
    "\n",
    "    # Setter method for 'age'\n",
    "    def set_age(self, age):\n",
    "        if age < 0:\n",
    "            print(\"Age cannot be negative.\")\n",
    "        else:\n",
    "            self._age = age\n",
    "\n",
    "# Create an instance of the Person class\n",
    "person1 = Person(\"Alice\", 30)\n",
    "\n",
    "# Get the name and age using the getter methods\n",
    "print(\"Name:\", person1.get_name())\n",
    "print(\"Age:\", person1.get_age())\n",
    "\n",
    "# Set a new name and age using the setter methods\n",
    "person1.set_name(\"Bob\")\n",
    "person1.set_age(25)\n",
    "\n",
    "# Get the updated name and age\n",
    "print(\"Updated Name:\", person1.get_name())\n",
    "print(\"Updated Age:\", person1.get_age())\n"
   ]
  },
  {
   "cell_type": "code",
   "execution_count": null,
   "id": "c14f647b-cf75-4a90-8ce3-7a44e5eb1de8",
   "metadata": {},
   "outputs": [],
   "source": []
  }
 ],
 "metadata": {
  "kernelspec": {
   "display_name": "Python 3 (ipykernel)",
   "language": "python",
   "name": "python3"
  },
  "language_info": {
   "codemirror_mode": {
    "name": "ipython",
    "version": 3
   },
   "file_extension": ".py",
   "mimetype": "text/x-python",
   "name": "python",
   "nbconvert_exporter": "python",
   "pygments_lexer": "ipython3",
   "version": "3.10.8"
  }
 },
 "nbformat": 4,
 "nbformat_minor": 5
}
