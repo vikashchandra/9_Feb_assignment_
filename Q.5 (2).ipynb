{
 "cells": [
  {
   "cell_type": "code",
   "execution_count": 1,
   "id": "0af83eb3-5649-4a3c-9fcf-8c2bff431cac",
   "metadata": {},
   "outputs": [
    {
     "name": "stdout",
     "output_type": "stream",
     "text": [
      "Animal speaks\n",
      "Dog barks\n",
      "Cat meows\n"
     ]
    }
   ],
   "source": [
    "\"\"\"\n",
    "Q.5. What is method overriding in python? Write a python code to \n",
    "demonstrate method overriding.\n",
    "Solution:-\n",
    "\n",
    "Method overriding in Python is a concept where a subclass provides\n",
    "a specific implementation of a method that is already defined in \n",
    "its superclass. This allows the subclass to provide its own \n",
    "implementation for a method while inheriting the method signature\n",
    "from the superclass. When a method is overridden in a subclass, \n",
    "the subclass version of the method is called when an object of\n",
    "the subclass is used, instead of the superclass version.\n",
    "\n",
    "Here's a Python code example that demonstrates method overriding:\n",
    "\"\"\"\n",
    "class Animal:\n",
    "    def speak(self):\n",
    "        print(\"Animal speaks\")\n",
    "\n",
    "class Dog(Animal):\n",
    "    def speak(self):\n",
    "        print(\"Dog barks\")\n",
    "\n",
    "class Cat(Animal):\n",
    "    def speak(self):\n",
    "        print(\"Cat meows\")\n",
    "\n",
    "# Creating objects of the subclasses\n",
    "animal = Animal()\n",
    "dog = Dog()\n",
    "cat = Cat()\n",
    "\n",
    "# Calling the speak method on each object\n",
    "animal.speak()  # Output: \"Animal speaks\"\n",
    "dog.speak()     # Output: \"Dog barks\"\n",
    "cat.speak()     # Output: \"Cat meows\""
   ]
  },
  {
   "cell_type": "code",
   "execution_count": null,
   "id": "9adc18d8-7b06-4382-9560-15d378ab014a",
   "metadata": {},
   "outputs": [],
   "source": []
  }
 ],
 "metadata": {
  "kernelspec": {
   "display_name": "Python 3 (ipykernel)",
   "language": "python",
   "name": "python3"
  },
  "language_info": {
   "codemirror_mode": {
    "name": "ipython",
    "version": 3
   },
   "file_extension": ".py",
   "mimetype": "text/x-python",
   "name": "python",
   "nbconvert_exporter": "python",
   "pygments_lexer": "ipython3",
   "version": "3.10.8"
  }
 },
 "nbformat": 4,
 "nbformat_minor": 5
}
