{
 "cells": [
  {
   "cell_type": "code",
   "execution_count": 2,
   "id": "d765068c-b058-42ef-b8a1-0e6b150a2cb1",
   "metadata": {},
   "outputs": [
    {
     "name": "stdout",
     "output_type": "stream",
     "text": [
      "Polly says 'Squawk!'\n",
      "Buddy says 'Woof!'\n"
     ]
    }
   ],
   "source": [
    "\"\"\"\n",
    "Q.3. What is multiple inheritance? Write a python code to\n",
    "demonstrate multiple inheritance.\n",
    "Solution:-\n",
    "\"\"\"\n",
    "# Parent class 1\n",
    "class Animal:\n",
    "    def __init__(self, name):\n",
    "        self.name = name\n",
    "\n",
    "    def speak(self):\n",
    "        pass\n",
    "\n",
    "# Parent class 2\n",
    "class Bird:\n",
    "    def fly(self):\n",
    "        pass\n",
    "\n",
    "# Child class inheriting from both Animal and Bird\n",
    "class Parrot(Animal, Bird):\n",
    "    def speak(self):\n",
    "        return f\"{self.name} says 'Squawk!'\"\n",
    "\n",
    "# Child class inheriting only from Animal\n",
    "class Dog(Animal):\n",
    "    def speak(self):\n",
    "        return f\"{self.name} says 'Woof!'\"\n",
    "\n",
    "# Create instances of the child classes\n",
    "parrot = Parrot(\"Polly\")\n",
    "dog = Dog(\"Buddy\")\n",
    "\n",
    "# Demonstrate multiple inheritance\n",
    "print(parrot.speak())  # Output: Polly says 'Squawk!'\n",
    "parrot.fly()  # Parrots can fly\n",
    "\n",
    "print(dog.speak())  # Output: Buddy says 'Woof!'\n",
    "# dog.fly()  # Error: 'Dog' object has no attribute 'fly'\n"
   ]
  },
  {
   "cell_type": "code",
   "execution_count": null,
   "id": "1f087f65-174f-49f4-8a14-65165177a7ed",
   "metadata": {},
   "outputs": [],
   "source": []
  }
 ],
 "metadata": {
  "kernelspec": {
   "display_name": "Python 3 (ipykernel)",
   "language": "python",
   "name": "python3"
  },
  "language_info": {
   "codemirror_mode": {
    "name": "ipython",
    "version": 3
   },
   "file_extension": ".py",
   "mimetype": "text/x-python",
   "name": "python",
   "nbconvert_exporter": "python",
   "pygments_lexer": "ipython3",
   "version": "3.10.8"
  }
 },
 "nbformat": 4,
 "nbformat_minor": 5
}
